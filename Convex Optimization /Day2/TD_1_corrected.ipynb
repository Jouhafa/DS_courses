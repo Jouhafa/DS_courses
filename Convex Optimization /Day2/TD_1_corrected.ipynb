{
 "cells": [
  {
   "cell_type": "markdown",
   "metadata": {},
   "source": [
    "# Lab 1: Gradient descent\n",
    "Author : Pierre Ablin\n",
    "\n",
    "In this lab, the goal is to implement gradient descent, and look at its behavior. We will implement it for the ridge regression.\n",
    "\n",
    "\n",
    "In the following, `X` is a $n\\times p$ matrix and $y$ a vector of size `n`."
   ]
  },
  {
   "cell_type": "code",
   "execution_count": 1,
   "metadata": {},
   "outputs": [],
   "source": [
    "import numpy as np\n",
    "import matplotlib.pyplot as plt\n",
    "\n",
    "n = 10\n",
    "p = 5\n",
    "X = np.random.randn(n, p)\n",
    "y = np.random.randn(n)\n",
    "w = np.random.randn(p)\n",
    "lbda = 0.5"
   ]
  },
  {
   "cell_type": "markdown",
   "metadata": {},
   "source": [
    "**Exercise 1**: Implement an algorithm that computes the value of the ridge regression function, and of its gradient. Verify by finite difference that it is correct.\n",
    "\n",
    "$$\\min_w \\frac12\\|Xw - y\\|^2 + \\frac\\lambda 2\\|w\\|^2$$"
   ]
  },
  {
   "cell_type": "code",
   "execution_count": 2,
   "metadata": {},
   "outputs": [],
   "source": [
    "def ridge_cost(w, X, y, lbda):\n",
    "    # your code here\n",
    "    residual = np.dot(X, w) - y\n",
    "    cost = .5 * residual.dot(residual) + .5 * lbda * w.dot(w)\n",
    "    return cost\n",
    "\n",
    "\n",
    "def ridge_gradient(w, X, y, lbda):\n",
    "    # your code here\n",
    "    grad = np.dot(X.T, np.dot(X, w) - y) + lbda * w\n",
    "    return grad"
   ]
  },
  {
   "cell_type": "code",
   "execution_count": 3,
   "metadata": {},
   "outputs": [
    {
     "data": {
      "text/plain": [
       "7.633123235074743e-07"
      ]
     },
     "execution_count": 3,
     "metadata": {},
     "output_type": "execute_result"
    }
   ],
   "source": [
    "from scipy.optimize import check_grad\n",
    "\n",
    "check_grad(ridge_cost, ridge_gradient, w, X, y, lbda)  # should be small ! :)"
   ]
  },
  {
   "cell_type": "markdown",
   "metadata": {},
   "source": [
    "**Exercise 2**: Implement an algorithm that computes the optimal value $w^*$ in closed form. Check that it works: it should cancel the gradient !"
   ]
  },
  {
   "cell_type": "code",
   "execution_count": 4,
   "metadata": {},
   "outputs": [],
   "source": [
    "def ridge_closed_form(X, y, lbda):\n",
    "    n, p = X.shape\n",
    "    # Your code here\n",
    "    \n",
    "    w = np.linalg.solve(np.dot(X.T, X) + lbda * np.eye(p), np.dot(X.T, y))\n",
    "    return w"
   ]
  },
  {
   "cell_type": "code",
   "execution_count": 5,
   "metadata": {},
   "outputs": [
    {
     "name": "stdout",
     "output_type": "stream",
     "text": [
      "[ 1.66533454e-16 -4.71844785e-16 -4.16333634e-16  1.58206781e-15\n",
      "  1.11022302e-15]\n"
     ]
    }
   ],
   "source": [
    "w_star = ridge_closed_form(X, y, lbda)\n",
    "print(ridge_gradient(w_star, X, y, lbda))  # should be small"
   ]
  },
  {
   "cell_type": "markdown",
   "metadata": {},
   "source": [
    "**Exercise 3** Implement gradient descent with a step size `step` for `n_iters` iterations, starting from $w^0=0$.  Display the evolution of $f(x_n) - f^*$ and $\\|x_n - x^*\\|$ for this problem, with 100 iterations and the classical step size $1/L$."
   ]
  },
  {
   "cell_type": "code",
   "execution_count": 6,
   "metadata": {},
   "outputs": [],
   "source": [
    "def ridge_gradient_descent(X, y, lbda, step, n_iters):\n",
    "    n, p = X.shape\n",
    "    w = np.zeros(p)\n",
    "    w_list = []\n",
    "    for i in range(n_iters):\n",
    "        w_list.append(w.copy())\n",
    "        # your code here\n",
    "        w = w - step * ridge_gradient(w, X, y, lbda)\n",
    "    return w, w_list  # returns the value of w and the list of iterates"
   ]
  },
  {
   "cell_type": "code",
   "execution_count": 7,
   "metadata": {},
   "outputs": [],
   "source": [
    "step = 1 / (np.linalg.norm(X, ord=2) ** 2 + lbda)\n",
    "n_iters = 100\n",
    "w, w_list = ridge_gradient_descent(X, y, lbda, step, n_iters)"
   ]
  },
  {
   "cell_type": "code",
   "execution_count": 8,
   "metadata": {},
   "outputs": [
    {
     "data": {
      "text/plain": [
       "Text(0, 0.5, 'f - f^*')"
      ]
     },
     "execution_count": 8,
     "metadata": {},
     "output_type": "execute_result"
    },
    {
     "data": {
      "image/png": "[encoded data removed]",
      "text/plain": [
       "<Figure size 432x288 with 1 Axes>"
      ]
     },
     "metadata": {
      "needs_background": "light"
     },
     "output_type": "display_data"
    }
   ],
   "source": [
    "f_star = ridge_cost(w_star, X, y, lbda)\n",
    "f_vals = [ridge_cost(w, X, y, lbda) - f_star for w in w_list]\n",
    "\n",
    "plt.semilogy(f_vals)\n",
    "plt.xlabel('iterations')\n",
    "plt.ylabel('f - f^*')"
   ]
  },
  {
   "cell_type": "code",
   "execution_count": 9,
   "metadata": {},
   "outputs": [
    {
     "data": {
      "text/plain": [
       "Text(0, 0.5, '||x - x^*||')"
      ]
     },
     "execution_count": 9,
     "metadata": {},
     "output_type": "execute_result"
    },
    {
     "data": {
      "image/png": "[encoded data removed]",
      "text/plain": [
       "<Figure size 432x288 with 1 Axes>"
      ]
     },
     "metadata": {
      "needs_background": "light"
     },
     "output_type": "display_data"
    }
   ],
   "source": [
    "dists = [np.linalg.norm(w - w_star) for w in w_list]\n",
    "\n",
    "plt.semilogy(dists)\n",
    "plt.xlabel('iterations')\n",
    "plt.ylabel('||x - x^*||')"
   ]
  },
  {
   "cell_type": "markdown",
   "metadata": {},
   "source": [
    "**Exercice 4** Give the formula for the conditioning of the problem. Write a function that computes the condition number given $X, y$ and $\\lambda$. "
   ]
  },
  {
   "cell_type": "markdown",
   "metadata": {},
   "source": [
    "**Answer** : the function is quadratic. Its Hessian is $H = X^{\\top}X + \\lambda I_p$. Hence, its conditioning is $\\kappa = \\frac{\\sigma_{\\min}(X) + \\lambda}{\\sigma_{\\max}(X) + \\lambda}$.\n",
    "\n",
    "To have a very well conditioned problem, we can simply take a large $\\lambda$."
   ]
  },
  {
   "cell_type": "code",
   "execution_count": 10,
   "metadata": {},
   "outputs": [],
   "source": [
    "def conditioning(X, lbda):\n",
    "    # your code here\n",
    "    _, sigma, _ = np.linalg.svd(X)\n",
    "    kappa = (np.min(sigma) ** 2 + lbda) / (np.max(sigma) ** 2 + lbda)\n",
    "    return kappa"
   ]
  },
  {
   "cell_type": "markdown",
   "metadata": {},
   "source": [
    "**Exercice 5** Generate a problem with $n=50$, $p=100$ where the conditioning is $~0.5$, and another problem where the conditioning is $~1 / 1000$. Compare the convergence curves on these problems."
   ]
  },
  {
   "cell_type": "code",
   "execution_count": 11,
   "metadata": {},
   "outputs": [
    {
     "name": "stdout",
     "output_type": "stream",
     "text": [
      "0.4945397930843411\n"
     ]
    },
    {
     "data": {
      "text/plain": [
       "Text(0.5, 1.0, 'Well conditioned')"
      ]
     },
     "execution_count": 11,
     "metadata": {},
     "output_type": "execute_result"
    },
    {
     "data": {
      "image/png": "[encoded data removed]",
      "text/plain": [
       "<Figure size 432x288 with 1 Axes>"
      ]
     },
     "metadata": {
      "needs_background": "light"
     },
     "output_type": "display_data"
    }
   ],
   "source": [
    "n, p = 50, 100\n",
    "\n",
    "y = np.random.randn(n)\n",
    "\n",
    "# your code here\n",
    "X_well_conditioned = np.random.randn(n, p)\n",
    "lbda_well = 250\n",
    "print(conditioning(X_well_conditioned, lbda_well))\n",
    "\n",
    "step = 1 / (np.linalg.norm(X_well_conditioned, ord=2) ** 2 + lbda_well)\n",
    "w_star = ridge_closed_form(X_well_conditioned, y, lbda_well)\n",
    "n_iters = 100\n",
    "w, w_list_well = ridge_gradient_descent(X_well_conditioned, y, lbda_well, step, n_iters)\n",
    "\n",
    "dists = [np.linalg.norm(w - w_star) for w in w_list_well]\n",
    "\n",
    "plt.semilogy(dists)\n",
    "plt.xlabel('iterations')\n",
    "plt.ylabel('||x - x^*||')\n",
    "plt.title('Well conditioned')"
   ]
  },
  {
   "cell_type": "markdown",
   "metadata": {},
   "source": [
    "In order to get a very bad conditioning, we can generate a very badly conditioned matrix $X$ as $U\\Sigma V$ where $U$, $V$ are random orthogonal matrices and $\\Sigma$ is badly conditioned."
   ]
  },
  {
   "cell_type": "code",
   "execution_count": 12,
   "metadata": {},
   "outputs": [
    {
     "name": "stdout",
     "output_type": "stream",
     "text": [
      "9.999999999999992e-05\n"
     ]
    },
    {
     "data": {
      "text/plain": [
       "Text(0.5, 1.0, 'Poorly conditioned')"
      ]
     },
     "execution_count": 12,
     "metadata": {},
     "output_type": "execute_result"
    },
    {
     "data": {
      "image/png": "[encoded data removed]",
      "text/plain": [
       "<Figure size 432x288 with 1 Axes>"
      ]
     },
     "metadata": {
      "needs_background": "light"
     },
     "output_type": "display_data"
    }
   ],
   "source": [
    "n, p = 50, 100\n",
    "\n",
    "y = np.random.randn(n)\n",
    "\n",
    "# your code here\n",
    "singular_values = np.linspace(1e-4, 1, n)\n",
    "U, _, V = np.linalg.svd(np.random.randn(n, p), full_matrices=False)\n",
    "X_bad = np.dot(U * singular_values, V)\n",
    "lbda_bad = 1e-4\n",
    "\n",
    "print(conditioning(X_bad, lbda_bad))\n",
    "\n",
    "step = 1 / (np.linalg.norm(X_bad, ord=2) ** 2 + lbda_bad)\n",
    "w_star = ridge_closed_form(X_bad, y, lbda_bad)\n",
    "n_iters = 1000\n",
    "w, w_list_bad = ridge_gradient_descent(X_bad, y, lbda_bad, step, n_iters)\n",
    "\n",
    "dists = [np.linalg.norm(w - w_star) for w in w_list_bad]\n",
    "\n",
    "plt.semilogy(dists)\n",
    "plt.xlabel('iterations')\n",
    "plt.ylabel('||x - x^*||')\n",
    "plt.title('Poorly conditioned')"
   ]
  },
  {
   "cell_type": "code",
   "execution_count": 13,
   "metadata": {},
   "outputs": [
    {
     "data": {
      "text/plain": [
       "[<matplotlib.lines.Line2D at 0x7fbaa6172a90>]"
      ]
     },
     "execution_count": 13,
     "metadata": {},
     "output_type": "execute_result"
    },
    {
     "data": {
      "image/png": "[encoded data removed]",
      "text/plain": [
       "<Figure size 432x288 with 1 Axes>"
      ]
     },
     "metadata": {
      "needs_background": "light"
     },
     "output_type": "display_data"
    }
   ],
   "source": [
    "f_star = ridge_cost(w_star, X_bad, y, lbda_bad)\n",
    "f_vals = [ridge_cost(w, X_bad, y, lbda_bad) - f_star for w in w_list_bad]\n",
    "\n",
    "plt.semilogy(f_vals)\n",
    "plt.xlabel('iterations')\n",
    "plt.ylabel('f - f^*')\n",
    "plt.semilogy(1 / (2 * np.arange(n_iters) + 1))"
   ]
  },
  {
   "cell_type": "code",
   "execution_count": null,
   "metadata": {},
   "outputs": [],
   "source": []
  }
 ],
 "metadata": {
  "kernelspec": {
   "display_name": "Python 3",
   "language": "python",
   "name": "python3"
  },
  "language_info": {
   "codemirror_mode": {
    "name": "ipython",
    "version": 3
   },
   "file_extension": ".py",
   "mimetype": "text/x-python",
   "name": "python",
   "nbconvert_exporter": "python",
   "pygments_lexer": "ipython3",
   "version": "3.7.7"
  }
 },
 "nbformat": 4,
 "nbformat_minor": 4
}
