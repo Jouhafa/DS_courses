{
 "cells": [
  {
   "cell_type": "markdown",
   "metadata": {},
   "source": [
    "# Lab 1: Gradient descent\n",
    "Author : Pierre Ablin\n",
    "\n",
    "In this lab, the goal is to implement gradient descent, and look at its behavior. We will implement it for the ridge regression.\n",
    "\n",
    "\n",
    "In the following, `X` is a $n\\times p$ matrix and $y$ a vector of size `n`."
   ]
  },
  {
   "cell_type": "code",
   "execution_count": 29,
   "metadata": {},
   "outputs": [],
   "source": [
    "import numpy as np\n",
    "import matplotlib.pyplot as plt\n",
    "\n",
    "n = 100\n",
    "p = 500\n",
    "X = np.random.randn(n, p)\n",
    "y = np.random.randn(n)\n",
    "w = np.random.randn(p)\n",
    "lbda = 0.5"
   ]
  },
  {
   "cell_type": "markdown",
   "metadata": {},
   "source": [
    "**Exercise 1**: Implement an algorithm that computes the value of the ridge regression function, and of its gradient. Verify by finite difference that it is correct.\n",
    "\n",
    "$$\\min_w \\frac12\\|Xw - y\\|^2 + \\frac\\lambda 2\\|w\\|^2$$"
   ]
  },
  {
   "cell_type": "code",
   "execution_count": 30,
   "metadata": {},
   "outputs": [],
   "source": [
    "def ridge_cost(w, X, y, lbda):\n",
    "    # your code here\n",
    "    r = np.dot(X, w) - y\n",
    "    cost = 0.5 * np.dot(r, r) + lbda * 0.5 * np.dot(w, w)\n",
    "    return cost\n",
    "\n",
    "\n",
    "def ridge_gradient(w, X, y, lbda):\n",
    "    # your code here\n",
    "    grad = np.dot(X.T, np.dot(X, w) - y) + lbda * w\n",
    "    return grad"
   ]
  },
  {
   "cell_type": "code",
   "execution_count": 31,
   "metadata": {},
   "outputs": [
    {
     "data": {
      "text/plain": [
       "0.004136920838665486"
      ]
     },
     "execution_count": 31,
     "metadata": {},
     "output_type": "execute_result"
    }
   ],
   "source": [
    "from scipy.optimize import check_grad\n",
    "\n",
    "check_grad(ridge_cost, ridge_gradient, w, X, y, lbda)  # should be small ! :)"
   ]
  },
  {
   "cell_type": "markdown",
   "metadata": {},
   "source": [
    "**Exercise 2**: Implement an algorithm that computes the optimal value $w^*$ in closed form. Check that it works: it should cancel the gradient !"
   ]
  },
  {
   "cell_type": "code",
   "execution_count": 32,
   "metadata": {},
   "outputs": [],
   "source": [
    "def ridge_closed_form(X, y, lbda):\n",
    "    n, p = X.shape\n",
    "    # Your code here\n",
    "    v = np.dot(X.T, y)\n",
    "    M = np.dot(X.T, X) + lbda * np.eye(p)\n",
    "    w = np.linalg.solve(M, v)\n",
    "    return w"
   ]
  },
  {
   "cell_type": "code",
   "execution_count": 33,
   "metadata": {},
   "outputs": [
    {
     "name": "stdout",
     "output_type": "stream",
     "text": [
      "[-6.01949046e-16 -6.21833314e-15  7.77676534e-15  1.25767452e-15\n",
      "  1.00613962e-15 -1.26114397e-15 -1.36782946e-15 -4.37844205e-15\n",
      " -6.87731122e-15 -1.41137102e-14 -1.20754101e-14  1.48492330e-14\n",
      "  9.87578075e-15 -1.80307158e-14  1.13268769e-14  1.92554306e-16\n",
      "  9.18861341e-16  2.42167397e-15 -5.52509427e-15  5.83300769e-15\n",
      " -9.78557513e-15  4.22058222e-15 -2.64198385e-15 -3.80121282e-15\n",
      " -5.06192310e-15  7.70921955e-15  3.95516953e-16  1.96630906e-15\n",
      "  3.35495520e-15  3.57699981e-15 -1.42099874e-14 -4.27761125e-15\n",
      " -2.25514052e-17  1.98755942e-15  5.26228366e-15  1.29367003e-15\n",
      " -1.17787724e-14  1.20407156e-14  4.58530783e-15  1.10501885e-14\n",
      " -5.72523799e-15  1.11039650e-14 -2.68135395e-15  2.15973073e-14\n",
      "  7.30730580e-15 -2.90566182e-15  5.05498421e-15  1.95676808e-15\n",
      "  7.27369553e-15  1.56402669e-14  1.41857012e-15 -6.48352899e-15\n",
      " -8.49103773e-15 -1.83360271e-15 -1.03519623e-15  3.28209682e-15\n",
      "  6.61103117e-15  1.78572435e-14  1.20146948e-14 -7.61196661e-15\n",
      " -1.42247325e-15  1.22853117e-14  3.88057642e-15 -1.10302392e-14\n",
      "  6.26105071e-15  2.09381124e-15  3.87537225e-15 -1.65232411e-15\n",
      "  2.71310752e-15  1.83880688e-15 -1.43374895e-14  1.34614542e-15\n",
      "  6.42715048e-15  4.09394740e-16 -2.15691180e-15  2.92474378e-15\n",
      " -5.00511091e-15  7.95717658e-15 -1.05818132e-16 -2.81111939e-15\n",
      "  2.72308218e-15  1.21118393e-14 -1.12757026e-14  3.49113100e-15\n",
      " -6.00864844e-16  1.05904868e-14  3.38444550e-15  1.40165657e-15\n",
      " -1.04534437e-14 -1.13346832e-14  1.90299165e-15 -6.52602972e-15\n",
      " -6.06459327e-15 -5.14518983e-15  5.81566045e-15  1.39376358e-14\n",
      " -2.04003481e-15 -2.39305104e-15 -7.10542736e-15  3.08086889e-15\n",
      " -1.37528877e-14  6.73419653e-15 -4.09568213e-15  5.88765148e-15\n",
      "  2.73739365e-15  6.74538414e-15 -3.73659437e-15  4.13211132e-15\n",
      "  1.13763166e-14 -7.85209029e-15  2.44552642e-15  6.08887940e-16\n",
      "  1.67747760e-15  8.46545056e-16 -3.69582837e-15  2.58256957e-16\n",
      "  1.21990092e-14  1.74171658e-15  1.30754782e-15 -1.42516207e-14\n",
      " -4.85549101e-15  8.27463098e-15  1.29965483e-14 -1.02712977e-14\n",
      " -1.50261747e-14  1.07739338e-14 -2.44319539e-15  1.17319349e-14\n",
      " -3.41740525e-16 -2.38697950e-15 -3.68715475e-15 -2.86923263e-15\n",
      "  7.31467838e-15  2.64094302e-14  5.00858036e-15  1.59299657e-14\n",
      " -3.05156833e-15  1.05002812e-14 -9.66934866e-15 -4.56232274e-15\n",
      " -7.82880705e-15 -9.12507916e-15  1.26634814e-14  3.96384314e-15\n",
      " -2.36746386e-15  2.40714566e-15  1.26591446e-15 -3.32503122e-15\n",
      "  8.12804685e-15  7.59461938e-15  1.45751466e-14 -9.63671417e-15\n",
      "  1.96804378e-15 -1.41206491e-15  5.98718124e-15 -4.23792945e-15\n",
      " -1.24414368e-14  5.40279627e-15 -3.61342900e-15  8.17054757e-15\n",
      " -1.02903797e-14  4.73579509e-16 -2.07472928e-15  5.97265293e-15\n",
      "  3.94996535e-15 -1.53280166e-14 -1.12757026e-16  8.52443116e-15\n",
      " -1.72542102e-14 -5.28353403e-15 -3.08780779e-16  5.79787954e-15\n",
      " -1.48795906e-15  1.13572346e-14  8.29588134e-15 -4.12907555e-15\n",
      "  2.79117007e-15  3.81509060e-15  3.13421164e-15 -3.08433834e-15\n",
      " -7.12797876e-15  6.65179717e-15 -8.81066053e-15  9.65590455e-15\n",
      "  1.09634524e-14 -2.02661781e-15 -8.87744739e-16  3.22485094e-15\n",
      " -2.99933689e-15 -4.51375048e-15  1.03810190e-14  6.17908502e-15\n",
      " -7.42982065e-15  6.30441879e-15 -3.00662273e-14 -3.83720833e-15\n",
      "  9.38572137e-15 -4.93745669e-15  4.42354486e-16  9.48373324e-15\n",
      "  6.74720696e-15  2.61596300e-15  9.63401722e-15 -5.79224169e-15\n",
      "  1.57859836e-15  2.88345736e-14  6.38985392e-15  7.62064023e-15\n",
      "  2.53096155e-15  2.68188249e-15 -1.80445936e-14  4.29691005e-15\n",
      "  4.32813507e-16 -1.30060893e-15 -7.17362367e-15 -5.74627151e-16\n",
      "  1.01165821e-14  1.25615664e-14 -1.18724475e-14 -3.81639165e-16\n",
      " -5.34815248e-15 -3.48679419e-15  7.94546720e-15  2.64718802e-15\n",
      "  6.25888230e-15  8.45504222e-15 -9.71445147e-15  2.43034759e-15\n",
      " -5.79831322e-15 -2.53963517e-15 -1.08949308e-14  1.91166527e-15\n",
      " -8.94423424e-15  3.55791785e-15  9.23306570e-15  9.93996552e-16\n",
      "  5.21371141e-15 -2.94577730e-16  9.43689571e-15 -1.54559525e-14\n",
      "  2.83974233e-15  1.93213501e-14 -4.49640325e-15  5.80611947e-15\n",
      " -1.53262819e-14  1.77002510e-14 -7.36173275e-15 -7.55472074e-16\n",
      "  7.54951657e-15  3.69582837e-15  3.81639165e-17 -5.97612237e-15\n",
      " -1.86049093e-15 -9.47159018e-16 -1.60774172e-14  1.37390099e-14\n",
      "  4.77742845e-15 -5.90846816e-15 -7.41507550e-15  3.21118999e-15\n",
      "  1.31492039e-14 -6.57113253e-15  4.71064160e-15 -1.47503537e-14\n",
      " -6.37077197e-15 -1.74166237e-15  9.90874049e-15 -1.91582861e-14\n",
      "  1.01019453e-14 -4.04884459e-15  4.51201576e-15  4.97865638e-16\n",
      "  1.08801856e-14  1.52915874e-14  2.40345938e-15 -4.72018258e-15\n",
      " -2.17707796e-15  1.27155231e-15  9.79587505e-15 -1.98625838e-16\n",
      " -1.58935365e-14  2.92647850e-15 -3.46944695e-15 -8.32060115e-15\n",
      " -6.64746036e-15 -2.39977309e-15  1.10848830e-15  9.28684213e-15\n",
      " -7.31576258e-15 -2.54852563e-15 -7.59114993e-15 -9.47809539e-15\n",
      "  2.46851151e-15 -5.60315683e-15 -1.77635684e-15 -4.56405747e-15\n",
      "  8.59815691e-15  2.56739074e-15 -1.12305998e-14  5.77923126e-15\n",
      " -8.70137296e-15  1.23148020e-14 -8.95117314e-16 -4.75314232e-15\n",
      " -9.50801937e-15 -1.04126777e-14 -1.63410951e-15 -3.57526508e-15\n",
      " -1.65796196e-15  5.03416753e-15  0.00000000e+00  4.42181014e-15\n",
      "  6.30745456e-15  4.91035164e-16 -1.09998816e-14  1.38881961e-14\n",
      " -8.33100949e-15  5.83040560e-15 -8.91647867e-16 -6.27969898e-16\n",
      " -4.83467433e-15 -1.02253275e-14 -1.80333179e-14 -3.59087760e-15\n",
      "  6.52949916e-15  1.35481903e-15 -2.36486178e-15  3.92394450e-15\n",
      "  1.43461631e-15  1.34170019e-14 -4.85549101e-15  7.83921539e-15\n",
      " -8.95290786e-15 -4.37497261e-15  4.24660307e-15  6.45490605e-15\n",
      " -1.88174129e-15  1.22991894e-15  8.54004367e-15 -6.42216315e-15\n",
      " -4.03388260e-15  5.96961716e-15  1.90732846e-15  9.02489888e-15\n",
      " -3.03923553e-15 -7.38124839e-15  7.02389535e-15  7.19042881e-16\n",
      "  8.16707812e-15  1.25004174e-14  1.08663079e-14 -3.85282084e-15\n",
      "  2.55264559e-15  8.32667268e-15  4.54107238e-15  5.68989300e-16\n",
      " -1.96674274e-15 -6.23156041e-15  2.51812460e-14 -5.93275429e-16\n",
      " -4.80865348e-15  1.07845590e-14 -1.65995689e-14  8.76902717e-15\n",
      "  5.32733579e-15  1.22575561e-14 -6.36383307e-15  1.38604406e-15\n",
      "  8.14279200e-15 -1.11039650e-14  7.84962373e-16 -1.96197225e-15\n",
      " -2.86229374e-16 -7.66053887e-15 -5.34294831e-16  3.59388626e-15\n",
      " -5.36810180e-15 -1.54477126e-15 -4.33854341e-15 -2.61422828e-15\n",
      " -2.07125983e-15  1.56454710e-14 -6.42541576e-15 -1.03239899e-14\n",
      " -1.38587058e-14 -1.02175213e-15 -5.59535057e-15 -2.11337024e-14\n",
      " -1.36193140e-14 -9.05612391e-15 -6.94149599e-15 -3.14456577e-15\n",
      " -1.35820175e-14  7.98319744e-15 -6.27969898e-16 -3.69496100e-16\n",
      " -3.78950343e-15 -8.34532096e-15  6.93889390e-18  2.86229374e-16\n",
      " -5.97091820e-15  6.36383307e-15 -1.49619900e-17 -5.26488575e-15\n",
      "  2.69888278e-14 -1.73472348e-18  1.59507824e-15  1.70072290e-14\n",
      "  3.08043521e-15 -4.04364042e-15 -1.17007098e-14  6.45533973e-15\n",
      "  8.85142654e-15  2.45766948e-15 -8.38305120e-15  2.88614618e-15\n",
      "  1.54034771e-14  1.57165947e-15 -1.12028442e-14 -7.89125709e-15\n",
      "  1.36210487e-14 -2.35575448e-15  8.57777391e-15 -2.45723580e-15\n",
      " -2.89286824e-15  7.20343923e-16  5.00684563e-15 -2.89004931e-15\n",
      " -1.49394386e-14 -3.87277016e-15 -1.67942917e-16  7.28323651e-15\n",
      "  9.35102690e-15 -8.82974249e-16 -5.68989300e-16 -1.50053581e-15\n",
      "  2.07125983e-15  9.64506253e-15  4.03149736e-15  4.30211422e-16\n",
      " -5.23886490e-16  8.27983515e-15 -1.45716772e-15 -5.34208094e-15\n",
      " -1.71390679e-15  1.85147037e-14 -1.59941504e-15  6.62230687e-16\n",
      "  3.74873743e-15  7.16527532e-15 -2.72004641e-15 -4.71844785e-15\n",
      "  7.26328719e-15 -8.70310768e-15  7.28236915e-15 -5.97091820e-15\n",
      "  4.78089790e-15 -5.87724314e-15  9.98680305e-15 -5.07135566e-15\n",
      " -4.99513625e-15 -8.48106307e-15  1.15489215e-15  1.51935756e-14\n",
      " -5.30391703e-15 -3.30768399e-15 -4.50334214e-15  2.05217787e-15\n",
      " -1.74131543e-14 -5.21197668e-15 -4.28129754e-15 -1.01639617e-14\n",
      "  3.69040735e-15  1.45647383e-14 -1.66672232e-14  2.62619787e-14\n",
      "  1.75207071e-14 -2.92821323e-15 -4.60850975e-15 -1.78503046e-15\n",
      "  9.17668719e-16 -9.80118764e-16 -9.55702531e-15 -1.80844922e-15\n",
      "  4.92661467e-15 -9.90662630e-15  1.24197527e-14 -3.29770933e-15\n",
      "  6.58587768e-15 -5.30478439e-15 -8.72912853e-15  4.33680869e-15\n",
      " -5.28223298e-16  1.06060993e-14 -4.55538385e-15 -2.20309881e-16\n",
      "  9.88965854e-15 -9.37618039e-16  9.74784489e-15  2.68990559e-15]\n"
     ]
    }
   ],
   "source": [
    "w_star = ridge_closed_form(X, y, lbda)\n",
    "print(ridge_gradient(w_star, X, y, lbda))  # should be small"
   ]
  },
  {
   "cell_type": "markdown",
   "metadata": {},
   "source": [
    "**Exercise 3** Implement gradient descent with a step size `step` for `n_iters` iterations, starting from $w^0=0$.  Display the evolution of $f(x_n) - f^*$ and $\\|x_n - x^*\\|$ for this problem, with 100 iterations and the classical step size $1/L$."
   ]
  },
  {
   "cell_type": "code",
   "execution_count": 34,
   "metadata": {},
   "outputs": [],
   "source": [
    "def ridge_gradient_descent(X, y, lbda, step, n_iters):\n",
    "    n, p = X.shape\n",
    "    w = np.zeros(p)\n",
    "    w_list = []\n",
    "    for i in range(n_iters):\n",
    "        w_list.append(w.copy())\n",
    "        # your code here\n",
    "        w = w - step * ridge_gradient(w, X, y, lbda)\n",
    "    return w, w_list  # returns the value of w and the list of iterates"
   ]
  },
  {
   "cell_type": "code",
   "execution_count": 38,
   "metadata": {},
   "outputs": [],
   "source": [
    "step = 1 / (np.max(np.linalg.svd(X)[1]) ** 2 + lbda)\n",
    "n_iters = 100\n",
    "w, w_list = ridge_gradient_descent(X, y, lbda, step, n_iters)"
   ]
  },
  {
   "cell_type": "code",
   "execution_count": 39,
   "metadata": {},
   "outputs": [
    {
     "data": {
      "text/plain": [
       "Text(0, 0.5, 'f - f^*')"
      ]
     },
     "execution_count": 39,
     "metadata": {},
     "output_type": "execute_result"
    },
    {
     "data": {
      "image/png": "[encoded data removed]",
      "text/plain": [
       "<Figure size 432x288 with 1 Axes>"
      ]
     },
     "metadata": {
      "needs_background": "light"
     },
     "output_type": "display_data"
    }
   ],
   "source": [
    "f_star = ridge_cost(w_star, X, y, lbda)\n",
    "f_vals = [ridge_cost(w, X, y, lbda) - f_star for w in w_list]\n",
    "\n",
    "plt.semilogy(f_vals)\n",
    "plt.xlabel('iterations')\n",
    "plt.ylabel('f - f^*')"
   ]
  },
  {
   "cell_type": "code",
   "execution_count": 40,
   "metadata": {},
   "outputs": [
    {
     "data": {
      "text/plain": [
       "Text(0, 0.5, '||x - x^*||')"
      ]
     },
     "execution_count": 40,
     "metadata": {},
     "output_type": "execute_result"
    },
    {
     "data": {
      "image/png": "[encoded data removed]",
      "text/plain": [
       "<Figure size 432x288 with 1 Axes>"
      ]
     },
     "metadata": {
      "needs_background": "light"
     },
     "output_type": "display_data"
    }
   ],
   "source": [
    "dists = [np.linalg.norm(w - w_star) for w in w_list]\n",
    "\n",
    "plt.semilogy(dists)\n",
    "plt.xlabel('iterations')\n",
    "plt.ylabel('||x - x^*||')"
   ]
  },
  {
   "cell_type": "markdown",
   "metadata": {},
   "source": [
    "**Exercice 4** Give the formula for the conditioning of the problem. Write a function that computes the condition number given $X, y$ and $\\lambda$. "
   ]
  },
  {
   "cell_type": "code",
   "execution_count": 68,
   "metadata": {},
   "outputs": [],
   "source": [
    "def conditioning(X, lbda):\n",
    "    # your code here\n",
    "    L = np.max(np.linalg.svd(X)[1]) ** 2 + lbda\n",
    "    mu = np.min(np.linalg.svd(X)[1]) ** 2 + lbda\n",
    "    kappa = mu / L\n",
    "    return kappa"
   ]
  },
  {
   "cell_type": "markdown",
   "metadata": {},
   "source": [
    "**Exercice 5** Generate a problem with $n=50$, $p=100$ where the conditioning is $~0.5$, and another problem where the conditioning is $~1 / 1000$. Compare the convergence curves on these problems."
   ]
  },
  {
   "cell_type": "code",
   "execution_count": 69,
   "metadata": {},
   "outputs": [
    {
     "data": {
      "text/plain": [
       "[<matplotlib.lines.Line2D at 0x7f738b4cbf10>]"
      ]
     },
     "execution_count": 69,
     "metadata": {},
     "output_type": "execute_result"
    },
    {
     "data": {
      "image/png": "[encoded data removed]",
      "text/plain": [
       "<Figure size 432x288 with 1 Axes>"
      ]
     },
     "metadata": {
      "needs_background": "light"
     },
     "output_type": "display_data"
    }
   ],
   "source": [
    "# Well conditioned problem\n",
    "n, p = 50, 100\n",
    "\n",
    "# your code here\n",
    "\n",
    "X = np.random.randn(n, p)\n",
    "y = np.random.randn(n)\n",
    "lbda = 250\n",
    "\n",
    "kappa = conditioning(X, lbda)\n",
    "\n",
    "\n",
    "step = 1 / (np.max(np.linalg.svd(X)[1]) ** 2 + lbda)\n",
    "n_iters = 10\n",
    "w, w_list = ridge_gradient_descent(X, y, lbda, step, n_iters)\n",
    "\n",
    "w_star = ridge_closed_form(X, y, lbda)\n",
    "\n",
    "f_star = ridge_cost(w_star, X, y, lbda)\n",
    "f_vals = [ridge_cost(w, X, y, lbda) - f_star for w in w_list]\n",
    "\n",
    "plt.semilogy(f_vals)\n",
    "plt.xlabel('iterations')\n",
    "plt.ylabel('f - f^*')\n",
    "\n",
    "plt.semilogy((1 - kappa) ** (2 * np.arange(n_iters)) * f_vals[0])"
   ]
  },
  {
   "cell_type": "markdown",
   "metadata": {},
   "source": [
    "In order to get a very bad conditioning, we can generate a very badly conditioned matrix $X$ as $U\\Sigma V$ where $U$, $V$ are random orthogonal matrices and $\\Sigma$ is badly conditioned."
   ]
  },
  {
   "cell_type": "code",
   "execution_count": 97,
   "metadata": {},
   "outputs": [
    {
     "name": "stdout",
     "output_type": "stream",
     "text": [
      "0.00010999890001100047\n"
     ]
    },
    {
     "data": {
      "text/plain": [
       "[<matplotlib.lines.Line2D at 0x7f7389f06050>]"
      ]
     },
     "execution_count": 97,
     "metadata": {},
     "output_type": "execute_result"
    },
    {
     "data": {
      "image/png": "[encoded data removed]",
      "text/plain": [
       "<Figure size 432x288 with 1 Axes>"
      ]
     },
     "metadata": {
      "needs_background": "light"
     },
     "output_type": "display_data"
    }
   ],
   "source": [
    "# Poorly conditioned problem\n",
    "n, p = 50, 100\n",
    "\n",
    "# your code here\n",
    "\n",
    "A = np.random.randn(n, p)\n",
    "U, _, V = np.linalg.svd(A, full_matrices=False)\n",
    "\n",
    "sigma = np.diag(np.linspace(1/ 100, 1, n))\n",
    "X = np.dot(U, np.dot(sigma, V))\n",
    "y = np.random.randn(n)\n",
    "lbda = 1e-5\n",
    "\n",
    "kappa = conditioning(X, lbda)\n",
    "print(kappa)\n",
    "\n",
    "step = 1 / (np.max(np.linalg.svd(X)[1]) ** 2 + lbda)\n",
    "n_iters = 1000\n",
    "w, w_list = ridge_gradient_descent(X, y, lbda, step, n_iters)\n",
    "\n",
    "w_star = ridge_closed_form(X, y, lbda)\n",
    "\n",
    "f_star = ridge_cost(w_star, X, y, lbda)\n",
    "f_vals = [ridge_cost(w, X, y, lbda) - f_star for w in w_list]\n",
    "\n",
    "plt.semilogy(f_vals)\n",
    "plt.xlabel('iterations')\n",
    "plt.ylabel('f - f^*')\n",
    "\n",
    "plt.semilogy(1 / (1 + np.arange(n_iters)))"
   ]
  },
  {
   "cell_type": "code",
   "execution_count": 99,
   "metadata": {},
   "outputs": [
    {
     "data": {
      "text/plain": [
       "Text(0, 0.5, '||x - x^*||')"
      ]
     },
     "execution_count": 99,
     "metadata": {},
     "output_type": "execute_result"
    },
    {
     "data": {
      "image/png": "[encoded data removed]",
      "text/plain": [
       "<Figure size 432x288 with 1 Axes>"
      ]
     },
     "metadata": {
      "needs_background": "light"
     },
     "output_type": "display_data"
    }
   ],
   "source": [
    "dists = [np.linalg.norm(w - w_star) for w in w_list]\n",
    "\n",
    "plt.semilogy(dists)\n",
    "plt.semilogy(f_vals)\n",
    "plt.xlabel('iterations')\n",
    "plt.ylabel('||x - x^*||')"
   ]
  },
  {
   "cell_type": "code",
   "execution_count": null,
   "metadata": {},
   "outputs": [],
   "source": []
  }
 ],
 "metadata": {
  "kernelspec": {
   "display_name": "Python 3",
   "language": "python",
   "name": "python3"
  },
  "language_info": {
   "codemirror_mode": {
    "name": "ipython",
    "version": 3
   },
   "file_extension": ".py",
   "mimetype": "text/x-python",
   "name": "python",
   "nbconvert_exporter": "python",
   "pygments_lexer": "ipython3",
   "version": "3.7.7"
  }
 },
 "nbformat": 4,
 "nbformat_minor": 4
}
